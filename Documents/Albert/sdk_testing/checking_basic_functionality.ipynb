{
 "cells": [
  {
   "cell_type": "code",
   "execution_count": 1,
   "id": "2d4eafa7-5d25-452d-b193-6742eb4d99d2",
   "metadata": {},
   "outputs": [],
   "source": [
    "from albert.albert import Albert\n",
    "from albert.resources.base import BaseEntityLink\n",
    "\n",
    "from albert.resources.property_data import InventoryDataColumn, TaskPropertyCreate, TaskDataColumn\n",
    "\n",
    "from albert.resources.lists import ListItem\n",
    "\n",
    "from albert.resources.inventory import InventorySpec, InventorySpecValue\n",
    "from albert.utils.client_credentials import ClientCredentials\n",
    "from albert.resources.pricings import Pricing\n",
    "from albert.resources.parameters import Parameter\n",
    "from albert.resources.projects import Project\n",
    "from albert.resources.sheets import Component\n",
    "from albert.resources.workflows import Workflow, ParameterGroupSetpoints, ParameterSetpoint\n",
    "from albert.resources.custom_fields import CustomField,EntityCategory, FieldCategory,ServiceType, FieldType, UIComponent\n",
    "\n",
    "from albert.resources.files import FileNamespace, FileInfo"
   ]
  },
  {
   "cell_type": "code",
   "execution_count": 2,
   "id": "3c7370f1-ac2d-4ff3-a420-be3351a6b309",
   "metadata": {},
   "outputs": [],
   "source": [
    "from datetime import datetime\n"
   ]
  },
  {
   "cell_type": "code",
   "execution_count": 3,
   "id": "441fd3f2-fb98-4c96-9764-7d76df11b669",
   "metadata": {},
   "outputs": [],
   "source": [
    "credentials = ClientCredentials.from_env(\n",
    "    client_id_env=\"ALBERT_CLIENT_ID\",\n",
    "    client_secret_env=\"ALBERT_CLIENT_SECRET\",\n",
    ")\n",
    "# test_client =  Albert(\n",
    "#     base_url=\"https://app.albertinvent.com\",\n",
    "#     client_credentials=credentials,\n",
    "# )\n",
    "\n",
    "\n",
    "dev_client =  Albert(\n",
    "    base_url=\"https://dev.albertinventdev.com\",\n",
    "    client_credentials=credentials,\n",
    ")"
   ]
  },
  {
   "cell_type": "code",
   "execution_count": null,
   "id": "19f97726-19c7-403a-aa67-447a79d4ea7b",
   "metadata": {},
   "outputs": [],
   "source": []
  },
  {
   "cell_type": "code",
   "execution_count": 14,
   "id": "d5a27126-1b97-47a0-8366-2e492441d222",
   "metadata": {},
   "outputs": [],
   "source": [
    "prod_designs = dev_client.product_design.get_unpacked_product(inventory_ids=[\"INVEXP102748-030\"])"
   ]
  },
  {
   "cell_type": "code",
   "execution_count": 15,
   "id": "d56955fe-7758-43ce-add6-43faf08857d9",
   "metadata": {
    "scrolled": true
   },
   "outputs": [
    {
     "data": {
      "text/plain": [
       "UnpackedProductDesign(cas_level_substances=[CasLevelSubstance(status=None, created=None, updated=None, cas_primary_key_id='CAS16937', cas_id='25322-68-3', amount=0.49504950495049505), CasLevelSubstance(status=None, created=None, updated=None, cas_primary_key_id='CAS737654', cas_id='zurty', amount=0.0049504950495049506), CasLevelSubstance(status=None, created=None, updated=None, cas_primary_key_id='CAS854406', cas_id='13463-67-7 (EC:236-675-5)', amount=0.1), CasLevelSubstance(status=None, created=None, updated=None, cas_primary_key_id='CAS273963', cas_id='Water', amount=0.004)], normalized_cas_list=[NormalizedCAS(status=None, created=None, updated=None, name='25322-68-3', value=49.504950495049506, albert_id='INVA166387', smiles=None), NormalizedCAS(status=None, created=None, updated=None, name='zurty', value=0.49504950495049505, albert_id='INVA166387', smiles=None), NormalizedCAS(status=None, created=None, updated=None, name='13463-67-7 (EC:236-675-5)', value=10.0, albert_id='INVA177893', smiles=None), NormalizedCAS(status=None, created=None, updated=None, name='Water', value=0.4, albert_id='INVA179453', smiles='c1(Cl)c(O)cc(Cl)c(Cl)c1'), NormalizedCAS(status=None, created=None, updated=None, name='INVA179453_Unknown', value=39.6, albert_id='INVA179453', smiles='')], inventory_sds_list=[UnpackedInventorySDS(status=None, created=None, updated=None, albert_id='INVA166387', value=100.0, sds_class='N/A', un_number=None), UnpackedInventorySDS(status=None, created=None, updated=None, albert_id='INVA177893', value=0.995, sds_class='N/A', un_number=None), UnpackedInventorySDS(status=None, created=None, updated=None, albert_id='INVA179453', value=1234576.5337820316, sds_class='N/A', un_number='N/A')], inventories=[UnpackedInventory(status=None, created=None, updated=None, row_inventory_id='INVA166387', value=0.5, column_id='COL9', column_inventory_id='INVEXP102748-030', parent_id='DES328016', row_id='ROW22', id='INVA166387', name='Polyethylene Glycol (PEG)', rsn_number='', total_cas_sum=100.0, sds_info=UnpackedInventorySDS(status=None, created=None, updated=None, albert_id='INVA166387', value=100.0, sds_class='N/A', un_number=None), cas_info=[UnpackedCasInfo(status=None, created=None, updated=None, id='CAS16937', name=None, min=95.0, max=99.00990099009901, number='25322-68-3', cas_average=0.9900990099009901, cas_sum=0.49504950495049505), UnpackedCasInfo(status=None, created=None, updated=None, id='CAS737654', name=None, min=0.0, max=0.9900990099009901, number='zurty', cas_average=0.009900990099009901, cas_sum=0.0049504950495049506)]), UnpackedInventory(status=None, created=None, updated=None, row_inventory_id='INVA177893', value=0.1, column_id='COL9', column_inventory_id='INVEXP102748-030', parent_id='DES328016', row_id='ROW21', id='INVA177893', name='Natracol Titanium Dioxide', rsn_number='', total_cas_sum=100.0, sds_info=UnpackedInventorySDS(status=None, created=None, updated=None, albert_id='INVA177893', value=0.995, sds_class='N/A', un_number=None), cas_info=[UnpackedCasInfo(status=None, created=None, updated=None, id='CAS854406', name=None, min=0.0, max=100.0, number='13463-67-7 (EC:236-675-5)', cas_average=1.0, cas_sum=0.1)]), UnpackedInventory(status=None, created=None, updated=None, row_inventory_id='INVA179453', value=0.4, column_id='COL9', column_inventory_id='INVEXP102748-030', parent_id='DES328016', row_id='ROW24', id='INVA179453', name='Ethanol', rsn_number='', total_cas_sum=1.0, sds_info=UnpackedInventorySDS(status=None, created=None, updated=None, albert_id='INVA179453', value=1234576.5337820316, sds_class='N/A', un_number='N/A'), cas_info=[UnpackedCasInfo(status=None, created=None, updated=None, id='CAS273963', name=None, min=0.0, max=1.0, number='Water', cas_average=0.01, cas_sum=0.004)])], inventory_list=[UnpackedInventoryListItem(status=None, created=None, updated=None, row_inventory_id='INVA166387', value=0.5, column_id='COL9', column_inventory_id='INVEXP102748-030', parent_id='DES328016', row_id='ROW22'), UnpackedInventoryListItem(status=None, created=None, updated=None, row_inventory_id='INVA177893', value=0.1, column_id='COL9', column_inventory_id='INVEXP102748-030', parent_id='DES328016', row_id='ROW21'), UnpackedInventoryListItem(status=None, created=None, updated=None, row_inventory_id='INVA179453', value=0.4, column_id='COL9', column_inventory_id='INVEXP102748-030', parent_id='DES328016', row_id='ROW24')])"
      ]
     },
     "execution_count": 15,
     "metadata": {},
     "output_type": "execute_result"
    }
   ],
   "source": [
    "prod_designs[0]"
   ]
  },
  {
   "cell_type": "code",
   "execution_count": 16,
   "id": "04a4c31e-61a9-49d2-b7d1-34377b79f2c5",
   "metadata": {},
   "outputs": [
    {
     "data": {
      "text/plain": [
       "InventoryItem(status=<Status.ACTIVE: 'active'>, created=AuditFields(by='USR3624', by_name='Lenore Kubie', at=datetime.datetime(2024, 11, 14, 19, 18, 12, 408000, tzinfo=TzInfo(UTC))), updated=AuditFields(by='USR3624', by_name='Lenore Kubie', at=datetime.datetime(2024, 11, 19, 21, 19, 48, 765000, tzinfo=TzInfo(UTC))), tags=[], name='Order-specific Ethanol Last', id='INVEXP102748-030', description=None, category=<InventoryCategory.FORMULAS: 'Formulas'>, unit_category=<InventoryUnitCategory.MASS: 'mass'>, security_class=None, company=None, minimum=None, alias=None, cas=[], metadata=None, project_id='PROEXP102748', acls=[ACL(id='USR3624', fgc=<AccessControlLevel.PROJECT_OWNER: 'ProjectOwner'>)], task_config=[], formula_id=None, symbols=[{'name': 'Health Hazard', 'id': 'GHS08', 'status': 'active'}], un_number=None)"
      ]
     },
     "execution_count": 16,
     "metadata": {},
     "output_type": "execute_result"
    }
   ],
   "source": [
    "dev_client.inventory.get_by_id(id=\"INVEXP102748-030\")"
   ]
  },
  {
   "cell_type": "code",
   "execution_count": 18,
   "id": "5a5287dc-3cca-4314-bc88-0e40fb7a4ef4",
   "metadata": {},
   "outputs": [],
   "source": [
    "example_task = dev_client.tasks.get_by_id(id=\"FOR270394\")"
   ]
  },
  {
   "cell_type": "code",
   "execution_count": 19,
   "id": "760a7ad8-06c7-470b-aa72-8b704c7decd7",
   "metadata": {},
   "outputs": [
    {
     "name": "stdout",
     "output_type": "stream",
     "text": [
      "1\n",
      "1\n"
     ]
    }
   ],
   "source": [
    "for block in example_task.blocks:\n",
    "    print(len(block.data_template))"
   ]
  },
  {
   "cell_type": "code",
   "execution_count": null,
   "id": "500b9f11-dd2d-4c01-8bd5-a49875a09bbd",
   "metadata": {},
   "outputs": [],
   "source": []
  },
  {
   "cell_type": "code",
   "execution_count": null,
   "id": "b9c1b36e-c77c-49cc-bacb-dccfdafd33f1",
   "metadata": {},
   "outputs": [],
   "source": [
    "next(test_client.parameters.list(names=\"consumables\", exact_match=False))"
   ]
  },
  {
   "cell_type": "code",
   "execution_count": null,
   "id": "6dd2d861-72d4-41c5-ae03-d6e9961d87f6",
   "metadata": {},
   "outputs": [],
   "source": [
    "consumeables = test_client.parameters.list(names=\"Consumables\")\n",
    "for c in consumeables:\n",
    "    if c.name == \"Consumables\":\n",
    "        print(c)"
   ]
  },
  {
   "cell_type": "code",
   "execution_count": null,
   "id": "e6560624-4450-4a17-be19-4054b46c0920",
   "metadata": {},
   "outputs": [],
   "source": [
    "for x in test_client.parameters.list(names=\"Consum\", exact_match=True):\n",
    "    print(x)"
   ]
  },
  {
   "cell_type": "code",
   "execution_count": null,
   "id": "7105454d-8671-438f-b5da-020accc85774",
   "metadata": {},
   "outputs": [],
   "source": [
    "# for task in test_client.tasks.list():\n",
    "#     if task.name.startswith(\"SDK-Test-\"):\n",
    "#         test_client.tasks.delete(id=task.id)"
   ]
  },
  {
   "cell_type": "code",
   "execution_count": null,
   "id": "86f22127-14e6-42e4-8e08-37c70c750654",
   "metadata": {},
   "outputs": [],
   "source": []
  },
  {
   "cell_type": "code",
   "execution_count": null,
   "id": "02406020-ae70-4cf5-aa55-9f7f66ba0991",
   "metadata": {},
   "outputs": [],
   "source": [
    "param_custom_field = CustomField(\n",
    "    name=\"alt_id\",\n",
    "    display_name=\"Alternative ID\",\n",
    "    field_type=FieldType.STRING,\n",
    "    service=ServiceType.PARAMETERS,\n",
    ")"
   ]
  },
  {
   "cell_type": "code",
   "execution_count": null,
   "id": "6dd65d20-60f1-4b19-a31e-556aa04e0e88",
   "metadata": {},
   "outputs": [],
   "source": [
    "dc_custom_field = CustomField(\n",
    "    name=\"alt_id\",\n",
    "    display_name=\"Alternative ID\",\n",
    "    field_type=FieldType.STRING,\n",
    "    service=ServiceType.DATA_COLUMNS,\n",
    ")"
   ]
  },
  {
   "cell_type": "code",
   "execution_count": null,
   "id": "e6e387b6-df4a-4163-8778-6e07e603d1d4",
   "metadata": {},
   "outputs": [],
   "source": []
  },
  {
   "cell_type": "code",
   "execution_count": null,
   "id": "71d5f32c-4797-4936-96b9-1e41ec6bbe12",
   "metadata": {},
   "outputs": [],
   "source": []
  },
  {
   "cell_type": "code",
   "execution_count": null,
   "id": "ee83a107-29db-46d9-83d6-3bf0f5467161",
   "metadata": {},
   "outputs": [],
   "source": [
    "\n",
    "dev_client = Albert(\n",
    "    base_url=\"https://dev.albertinventdev.com/\",\n",
    "    client_credentials=ClientCredentials(\n",
    "        id = \"lenore\",\n",
    "        secret= \"xy+HUSRONB+JLWJdUbDpuVFDkpc+lTQZ/16SYeSiDjI=\"\n",
    "    )\n",
    ")"
   ]
  },
  {
   "cell_type": "code",
   "execution_count": null,
   "id": "40053873-a111-4006-81a6-0bebab6cd010",
   "metadata": {},
   "outputs": [],
   "source": [
    "# reg_param_custom_field = dev_client.custom_fields.create(custom_field=param_custom_field)\n",
    "reg_param_custom_field = dev_client.custom_fields.get_by_id(id=\"CTF182\")"
   ]
  },
  {
   "cell_type": "code",
   "execution_count": null,
   "id": "a23fe3dd-1307-4009-bd64-bb6d1dcef530",
   "metadata": {},
   "outputs": [],
   "source": [
    "reg_dc_custom_field = dev_client.custom_fields.create(custom_field=dc_custom_field)\n",
    "reg_dc_custom_field"
   ]
  },
  {
   "cell_type": "code",
   "execution_count": null,
   "id": "f863c3db-e731-4b26-b0e3-fcaa991105de",
   "metadata": {},
   "outputs": [],
   "source": []
  },
  {
   "cell_type": "code",
   "execution_count": null,
   "id": "4c468a87-491c-42cf-ae9b-06559aa558d4",
   "metadata": {},
   "outputs": [],
   "source": []
  },
  {
   "cell_type": "code",
   "execution_count": null,
   "id": "0eac41f2-713a-471f-a60a-531cb525dbd1",
   "metadata": {},
   "outputs": [],
   "source": [
    "uuid_str = \"6e05921e-8075-4470-948b-2d68515365c1\"\n",
    "param_with_alt_id = Parameter(\n",
    "    name = \"I have an alt ID\",\n",
    "    metadata={\n",
    "        \"alt_id\": uuid_str\n",
    "    }\n",
    ")"
   ]
  },
  {
   "cell_type": "code",
   "execution_count": null,
   "id": "aa97662b-7cd9-455b-9cb5-4144bfcad396",
   "metadata": {},
   "outputs": [],
   "source": [
    "reg_param = dev_client.parameters.create(parameter=param_with_alt_id)"
   ]
  },
  {
   "cell_type": "code",
   "execution_count": null,
   "id": "165618fa-90fa-4f9a-9ee9-7d93563f5b7b",
   "metadata": {},
   "outputs": [],
   "source": [
    "retrived = dev_client.parameters.list(names = [uuid_str])\n",
    "\n",
    "for r in retrived:\n",
    "    print(r)"
   ]
  },
  {
   "cell_type": "code",
   "execution_count": null,
   "id": "01bdb934-1f71-46fe-93ba-35ccd04cb7ae",
   "metadata": {},
   "outputs": [],
   "source": [
    "retreived_by_id = dev_client.parameters.get_by_id(id=reg_param.id)\n",
    "print(retreived_by_id)"
   ]
  },
  {
   "cell_type": "code",
   "execution_count": null,
   "id": "def2792c-b8bf-499d-bff9-5aec2048883d",
   "metadata": {},
   "outputs": [],
   "source": []
  },
  {
   "cell_type": "code",
   "execution_count": null,
   "id": "40e13328-40f6-4a88-83a9-9e2547d0b322",
   "metadata": {},
   "outputs": [],
   "source": []
  },
  {
   "cell_type": "code",
   "execution_count": null,
   "id": "68f018bf-3ce3-4b36-802e-4db599ba9c56",
   "metadata": {},
   "outputs": [],
   "source": []
  },
  {
   "cell_type": "code",
   "execution_count": null,
   "id": "5ea8f016-0107-4f8c-b69e-ef67f44fbb53",
   "metadata": {},
   "outputs": [],
   "source": []
  },
  {
   "cell_type": "code",
   "execution_count": null,
   "id": "5eb24597-8722-4d85-83ce-eb9f3d9ea7e4",
   "metadata": {},
   "outputs": [],
   "source": [
    "worksheet = dev_client.worksheets.get_by_project_id(project_id=\"EXP102748\")\n",
    "# print(worksheet)"
   ]
  },
  {
   "cell_type": "code",
   "execution_count": null,
   "id": "22be4bc4-18ed-4efa-9ddc-fdd69e1e0558",
   "metadata": {},
   "outputs": [],
   "source": [
    "for s in worksheet.sheets:\n",
    "    if s.name == \"Formulations\":\n",
    "        sheet = s\n",
    "assert(sheet)"
   ]
  },
  {
   "cell_type": "code",
   "execution_count": null,
   "id": "1639925f-0d83-40d4-bec6-766a3fe13e7f",
   "metadata": {},
   "outputs": [],
   "source": []
  },
  {
   "cell_type": "code",
   "execution_count": null,
   "id": "e02de0c3-7464-4b58-871f-7e96f8cd0967",
   "metadata": {},
   "outputs": [],
   "source": [
    "acetone_component = Component(\n",
    "    inventory_item=dev_client.inventory.get_by_id(id=\"A179404\"),\n",
    "    amount = \"33.333\"\n",
    ")"
   ]
  },
  {
   "cell_type": "code",
   "execution_count": null,
   "id": "860a0b65-06ec-46b8-8e14-11dd4ecce346",
   "metadata": {},
   "outputs": [],
   "source": [
    "ethanol_component = Component(\n",
    "    inventory_item=dev_client.inventory.get_by_id(id=\"A179453\"),\n",
    "    amount = \"33.333\"\n",
    ")"
   ]
  },
  {
   "cell_type": "code",
   "execution_count": null,
   "id": "2722f72b-b1cb-4407-afb0-8027fe618623",
   "metadata": {},
   "outputs": [],
   "source": [
    "peg_component = Component(\n",
    "    inventory_item=dev_client.inventory.get_by_id(id=\"A166387\"),\n",
    "    amount = \"33.333\"\n",
    ")"
   ]
  },
  {
   "cell_type": "code",
   "execution_count": null,
   "id": "0908b0fd-3b4b-4c3e-bb3a-5e8bf6324f11",
   "metadata": {},
   "outputs": [],
   "source": []
  },
  {
   "cell_type": "code",
   "execution_count": null,
   "id": "86aa757d-fe5c-462e-87a0-10f469924564",
   "metadata": {},
   "outputs": [],
   "source": [
    "sheet.add_formulation(formulation_name=\"SDK added e-a-p\", components=[ethanol_component,acetone_component,peg_component], enforce_order=True)"
   ]
  },
  {
   "cell_type": "code",
   "execution_count": null,
   "id": "bd6fa21f-5fe9-454e-8e11-d564acd19358",
   "metadata": {},
   "outputs": [],
   "source": []
  },
  {
   "cell_type": "code",
   "execution_count": null,
   "id": "4058db1d-252a-42ab-974c-bc61be8f8ea5",
   "metadata": {},
   "outputs": [],
   "source": []
  },
  {
   "cell_type": "code",
   "execution_count": null,
   "id": "24ac3937-f83f-4d3c-8bb8-144c84fbb2ca",
   "metadata": {},
   "outputs": [],
   "source": []
  },
  {
   "cell_type": "code",
   "execution_count": null,
   "id": "72277841-0591-439e-86d4-71a347ed5b6d",
   "metadata": {},
   "outputs": [],
   "source": []
  },
  {
   "cell_type": "code",
   "execution_count": null,
   "id": "f44177a9-564f-4cf8-b4ec-334c8cd1e2ac",
   "metadata": {},
   "outputs": [],
   "source": []
  },
  {
   "cell_type": "code",
   "execution_count": null,
   "id": "b328a50e-223a-4299-94a7-a938475401dc",
   "metadata": {},
   "outputs": [],
   "source": []
  },
  {
   "cell_type": "code",
   "execution_count": null,
   "id": "b3d7be2f-aa83-4020-881c-ead76699240c",
   "metadata": {},
   "outputs": [],
   "source": [
    "order_code_field = CustomField(\n",
    "    name=\"order_code\",\n",
    "    display_name=\"Order Code\",\n",
    "    field_type=FieldType.STRING,\n",
    "    service=ServiceType.TASKS,\n",
    "    ui_components=[UIComponent.CREATE, UIComponent.DETAILS]\n",
    ")"
   ]
  },
  {
   "cell_type": "code",
   "execution_count": null,
   "id": "7b371324-886c-4017-9770-b0495f3cf53b",
   "metadata": {},
   "outputs": [],
   "source": [
    "custom_field = dev_client.custom_fields.create(custom_field=order_code_field)"
   ]
  },
  {
   "cell_type": "code",
   "execution_count": null,
   "id": "020b4538-672a-43bb-8451-40bc317074a1",
   "metadata": {},
   "outputs": [],
   "source": []
  },
  {
   "cell_type": "code",
   "execution_count": null,
   "id": "3d020482-8ffe-47ef-8518-5c0a74aba7fe",
   "metadata": {},
   "outputs": [],
   "source": []
  },
  {
   "cell_type": "code",
   "execution_count": null,
   "id": "2e3f8628-efa3-4d3a-a793-b0e0953905d1",
   "metadata": {},
   "outputs": [],
   "source": [
    "float({\"a\",\"b\"})"
   ]
  },
  {
   "cell_type": "code",
   "execution_count": null,
   "id": "e9da7f3f-eb4a-42b8-b8b3-1476841c7c9b",
   "metadata": {},
   "outputs": [],
   "source": []
  },
  {
   "cell_type": "code",
   "execution_count": null,
   "id": "a8579110-a478-4013-aa8a-d51d5260061e",
   "metadata": {},
   "outputs": [],
   "source": []
  },
  {
   "cell_type": "code",
   "execution_count": null,
   "id": "dc6776f4-cacc-4e53-8ed2-320da80d3870",
   "metadata": {},
   "outputs": [],
   "source": []
  },
  {
   "cell_type": "code",
   "execution_count": null,
   "id": "0ea67121-2d4f-41d8-8836-175348d81b7b",
   "metadata": {},
   "outputs": [],
   "source": []
  },
  {
   "cell_type": "code",
   "execution_count": null,
   "id": "98efbca0-d42b-4341-b4b8-1bd6f4760805",
   "metadata": {},
   "outputs": [],
   "source": [
    "# p = Project(\n",
    "#     description=\"My new Project xxxxxxxxxx LK SDK testing\",\n",
    "#     locations=[next(albert.locations.list(name=\"Ly Location\"))]\n",
    "# ).to_entity_link()"
   ]
  },
  {
   "cell_type": "code",
   "execution_count": null,
   "id": "4f2b6ee3-e046-469f-b3d0-9dd75d5b0d0d",
   "metadata": {},
   "outputs": [],
   "source": [
    "# albert.projects.create(project=p)"
   ]
  },
  {
   "cell_type": "code",
   "execution_count": null,
   "id": "6f50e39e-5189-499c-ae10-d4661777c2df",
   "metadata": {},
   "outputs": [],
   "source": [
    "# client.lists.get_matching_item(list_type=stage_gate_field.name, name = \"\")"
   ]
  },
  {
   "cell_type": "code",
   "execution_count": null,
   "id": "28cade62-3453-44ee-b484-e648562e8803",
   "metadata": {},
   "outputs": [],
   "source": [
    "from albert.resources.lists import ListItem\n",
    "\n",
    "stages = [\n",
    "    \"1. Discovery\",\n",
    "    \"2. Concept Validation\",\n",
    "    \"3. Proof of Concept\",\n",
    "    \"4. Prototype Development\",\n",
    "    \"5. Preliminary Evaluation\",\n",
    "    \"6. Feasibility Study\",\n",
    "    \"7. Optimization\",\n",
    "    \"8. Scale-Up\",\n",
    "    \"9. Regulatory Assessment\",\n",
    "    \"10. Validation Testing\",\n",
    "    \"11. Pre-Launch Planning\",\n",
    "    \"12. Launch Readiness\",\n",
    "    \"13. Commercial Launch\",\n",
    "    \"14. Post-Launch Review\"\n",
    "]\n",
    "\n",
    "                ListItem(\n",
    "                    name=f\"{custom_field.display_name} Option {i}\",\n",
    "                    category=custom_field.category,\n",
    "                    list_type=custom_field.name,\n",
    "                )\n",
    "            )"
   ]
  },
  {
   "cell_type": "code",
   "execution_count": null,
   "id": "c40ff695-9062-4365-85f9-fe79ad23c503",
   "metadata": {},
   "outputs": [],
   "source": []
  },
  {
   "cell_type": "code",
   "execution_count": null,
   "id": "9e59fa14-4f03-49a6-b5d9-8318c9c48fb7",
   "metadata": {},
   "outputs": [],
   "source": []
  },
  {
   "cell_type": "code",
   "execution_count": null,
   "id": "3601bd7e-c164-4f7c-ba40-9b58bb2d4bea",
   "metadata": {},
   "outputs": [],
   "source": []
  },
  {
   "cell_type": "code",
   "execution_count": null,
   "id": "96c40a56-98b1-4b55-a7d3-ac96eb4ce4c7",
   "metadata": {},
   "outputs": [],
   "source": []
  },
  {
   "cell_type": "code",
   "execution_count": null,
   "id": "89dcb508-059e-4319-9a72-e5b560c16e05",
   "metadata": {},
   "outputs": [],
   "source": []
  },
  {
   "cell_type": "code",
   "execution_count": null,
   "id": "60b82851-1a7f-419c-9601-dccea2c049da",
   "metadata": {},
   "outputs": [],
   "source": []
  },
  {
   "cell_type": "code",
   "execution_count": null,
   "id": "10257cef-1a5d-4d60-9ecd-c261588b7225",
   "metadata": {},
   "outputs": [],
   "source": []
  },
  {
   "cell_type": "code",
   "execution_count": null,
   "id": "1aab7913-538d-464c-bd34-97889bc0e10a",
   "metadata": {},
   "outputs": [],
   "source": []
  },
  {
   "cell_type": "code",
   "execution_count": null,
   "id": "442c05f6-9f26-49fb-8a72-798c9c101e82",
   "metadata": {},
   "outputs": [],
   "source": [
    " from albert.exceptions import AlbertHTTPError\n",
    " \n",
    "for x in test_client.data_columns.list():\n",
    "    if \"SDK-Test\" in x.name:\n",
    "        try:\n",
    "            test_client.data_columns.delete(id=x.id)\n",
    "        except AlbertHTTPError as e:\n",
    "            print(e)"
   ]
  },
  {
   "cell_type": "code",
   "execution_count": null,
   "id": "048e5bea-d8e3-4cfe-b24b-fc6ec202f2f3",
   "metadata": {},
   "outputs": [],
   "source": []
  },
  {
   "cell_type": "code",
   "execution_count": null,
   "id": "11b3cb8e-5e8a-4ec3-a760-f83c7c89a748",
   "metadata": {},
   "outputs": [],
   "source": []
  },
  {
   "cell_type": "code",
   "execution_count": null,
   "id": "559df0bb-22a3-454d-bb5c-037e7cc04acd",
   "metadata": {},
   "outputs": [],
   "source": []
  },
  {
   "cell_type": "code",
   "execution_count": null,
   "id": "5f060848-4d13-4b68-ac5d-466450e3b2b6",
   "metadata": {},
   "outputs": [],
   "source": []
  },
  {
   "cell_type": "code",
   "execution_count": null,
   "id": "354b20ac-e96e-4e8f-9f8f-89afc9002957",
   "metadata": {},
   "outputs": [],
   "source": [
    "test_client.property_data.delete_task_property_row(\n",
    "    task_id=\"TASFOR475\",\n",
    "    inventory_id=\"INVB1306\",\n",
    "    lot_id=\"LOT1169\",\n",
    "    block_id=\"BLK1\",\n",
    "    interval_row=\"1\"\n",
    ")"
   ]
  },
  {
   "cell_type": "code",
   "execution_count": null,
   "id": "48013ea9-2fa5-47e7-a585-1d078252bf39",
   "metadata": {},
   "outputs": [],
   "source": []
  },
  {
   "cell_type": "code",
   "execution_count": null,
   "id": "4164092a-1251-4f7f-825a-198ca0393712",
   "metadata": {},
   "outputs": [],
   "source": [
    "from albert import ClientCredentials"
   ]
  },
  {
   "cell_type": "code",
   "execution_count": null,
   "id": "f4d3e300-49ed-4418-b50d-d2197d458230",
   "metadata": {},
   "outputs": [],
   "source": []
  },
  {
   "cell_type": "code",
   "execution_count": null,
   "id": "d188a4b0-a7b3-45f1-a6f0-7a9f5209327a",
   "metadata": {},
   "outputs": [],
   "source": []
  },
  {
   "cell_type": "code",
   "execution_count": null,
   "id": "ac3da491-e52f-4341-91fc-9240677cd0aa",
   "metadata": {},
   "outputs": [],
   "source": [
    "inv = dev_client.inventory.get_by_id(id=\"MO109076-320\")"
   ]
  },
  {
   "cell_type": "code",
   "execution_count": null,
   "id": "a85b63af-e1d2-4e52-81f1-a6594443b0a9",
   "metadata": {},
   "outputs": [],
   "source": [
    "inv"
   ]
  },
  {
   "cell_type": "code",
   "execution_count": null,
   "id": "a3734495-aa70-4829-9890-94d481da0574",
   "metadata": {},
   "outputs": [],
   "source": []
  },
  {
   "cell_type": "code",
   "execution_count": null,
   "id": "e4bf1641-93fd-47f3-8f74-25cb4a41e316",
   "metadata": {},
   "outputs": [],
   "source": [
    "block_prop_data = albert.property_data.check_for_task_data(task_id = \"FOR268605\")"
   ]
  },
  {
   "cell_type": "code",
   "execution_count": null,
   "id": "f422557d-d708-44fa-86fc-c4dc09afae7e",
   "metadata": {},
   "outputs": [],
   "source": [
    "full_data = albert.property_data.get_all_task_properties(task_id=\"FOR268605\")[0]"
   ]
  },
  {
   "cell_type": "code",
   "execution_count": null,
   "id": "640a4866-0630-4a12-8597-0716e5e84499",
   "metadata": {},
   "outputs": [],
   "source": [
    "full_data.block_id"
   ]
  },
  {
   "cell_type": "code",
   "execution_count": null,
   "id": "d13631b3-77ad-45dc-b26b-c566a819f802",
   "metadata": {},
   "outputs": [],
   "source": [
    "abs_col = full_data.data[0].trials[0].data_columns[0]\n",
    "abs_col.name"
   ]
  },
  {
   "cell_type": "code",
   "execution_count": null,
   "id": "2d5ef41c-a499-4436-af18-6abf8e2fa6d7",
   "metadata": {},
   "outputs": [],
   "source": [
    "abs_col"
   ]
  },
  {
   "cell_type": "code",
   "execution_count": null,
   "id": "e250af2f-542c-4cc7-94c8-b49bf7a2f495",
   "metadata": {},
   "outputs": [],
   "source": [
    "a_col = full_data.data[0].trials[0].data_columns[1]\n",
    "a_col.name"
   ]
  },
  {
   "cell_type": "code",
   "execution_count": null,
   "id": "d544fcca-6993-449f-b9e3-2709e2ec8f89",
   "metadata": {},
   "outputs": [],
   "source": [
    "b_col = full_data.data[0].trials[0].data_columns[2]\n",
    "b_col.name"
   ]
  },
  {
   "cell_type": "code",
   "execution_count": null,
   "id": "9d7bc0b5-8716-4707-87e8-0382b69d30c5",
   "metadata": {},
   "outputs": [],
   "source": [
    "c_col = full_data.data[0].trials[0].data_columns[3]\n",
    "c_col.name"
   ]
  },
  {
   "cell_type": "code",
   "execution_count": null,
   "id": "5f43896d-febd-4ae4-bef5-ba0ca33883a2",
   "metadata": {},
   "outputs": [],
   "source": [
    "data = [\n",
    "\n",
    "    TaskPropertyCreate(\n",
    "        interval_combination=full_data.data[0].interval_combination,\n",
    "        value = \"0.65\",\n",
    "        data_column=TaskDataColumn(\n",
    "            column_sequence=abs_col.sequence,\n",
    "            data_column_id=abs_col.id\n",
    "        ),\n",
    "        data_template=full_data.data_template,\n",
    "    ),\n",
    "\n",
    "]"
   ]
  },
  {
   "cell_type": "code",
   "execution_count": null,
   "id": "d3480201-ffae-4c3d-81d9-28645d6c4f5c",
   "metadata": {},
   "outputs": [],
   "source": [
    "albert.property_data.post_task_properties(\n",
    "    invenotry_id=full_data.inventory.inventory_id,\n",
    "    task_id=full_data.task_id,\n",
    "    lot_id=full_data.inventory.lot_id, #None\n",
    "    block_id=block_prop_data[0].block_id,\n",
    "    properties=data,\n",
    "    \n",
    ")"
   ]
  },
  {
   "cell_type": "code",
   "execution_count": null,
   "id": "e12ae2cd-30e9-4ec2-b51d-89004b9a5760",
   "metadata": {},
   "outputs": [],
   "source": [
    "data = [\n",
    "    TaskPropertyCreate(\n",
    "        interval_combination=full_data.data[0].interval_combination,\n",
    "        value = \"0.6666\",\n",
    "        data_column=TaskDataColumn(\n",
    "            column_sequence=a_col.sequence,\n",
    "            data_column_id=a_col.id\n",
    "        ),\n",
    "        data_template=full_data.data_template,\n",
    "        visible_trial_number = 27,\n",
    "        trial_number=27\n",
    "    ),\n",
    "\n",
    "    TaskPropertyCreate(\n",
    "        interval_combination=full_data.data[0].interval_combination,\n",
    "        value = \"25\",\n",
    "        data_column=TaskDataColumn(\n",
    "            column_sequence=b_col.sequence,\n",
    "            data_column_id=b_col.id\n",
    "        ),\n",
    "        data_template=full_data.data_template,\n",
    "        visible_trial_number = 27,\n",
    "        trial_number=27\n",
    "    ),\n",
    "\n",
    "]"
   ]
  },
  {
   "cell_type": "code",
   "execution_count": null,
   "id": "a3befb81-75d2-4517-809f-811272aa3e9e",
   "metadata": {},
   "outputs": [],
   "source": []
  },
  {
   "cell_type": "code",
   "execution_count": null,
   "id": "956fe141-c527-491b-8b7d-14e18c46f174",
   "metadata": {},
   "outputs": [],
   "source": [
    "albert.property_data.post_task_properties(\n",
    "    invenotry_id=full_data.inventory.inventory_id,\n",
    "    task_id=full_data.task_id,\n",
    "    lot_id=full_data.inventory.lot_id, #None\n",
    "    block_id=block_prop_data[0].block_id,\n",
    "    properties=data,\n",
    "    \n",
    ")"
   ]
  },
  {
   "cell_type": "code",
   "execution_count": null,
   "id": "761d9a97-e54f-43fd-a281-bb88a47527ca",
   "metadata": {},
   "outputs": [],
   "source": [
    "full_data.inventory.lot_id"
   ]
  },
  {
   "cell_type": "code",
   "execution_count": null,
   "id": "5da36731-b295-4b04-88ec-6dace0c0cd59",
   "metadata": {},
   "outputs": [],
   "source": []
  },
  {
   "cell_type": "code",
   "execution_count": null,
   "id": "68056828-aaf8-448c-9293-73e1f973f85a",
   "metadata": {},
   "outputs": [],
   "source": []
  },
  {
   "cell_type": "code",
   "execution_count": null,
   "id": "6300e8e6-1863-4477-ac46-b5a186af19bf",
   "metadata": {},
   "outputs": [],
   "source": [
    "dt = albert.data_templates.get_by_id(id=full_data.data_template.id)"
   ]
  },
  {
   "cell_type": "code",
   "execution_count": null,
   "id": "4e734d34-d90b-4db8-805b-d7168cbf5e84",
   "metadata": {},
   "outputs": [],
   "source": [
    "dt.id"
   ]
  },
  {
   "cell_type": "code",
   "execution_count": null,
   "id": "3460b92d-7fa3-4d54-a302-eaf6cb2744e4",
   "metadata": {},
   "outputs": [],
   "source": [
    "[x.data_column_id for x in dt.data_column_values]"
   ]
  },
  {
   "cell_type": "code",
   "execution_count": null,
   "id": "79ee7057-1555-403b-87ff-4bdbd769403f",
   "metadata": {},
   "outputs": [],
   "source": [
    "full_data.data_template"
   ]
  },
  {
   "cell_type": "code",
   "execution_count": null,
   "id": "50b3d747-f6f0-434f-9d07-8df9190283d1",
   "metadata": {},
   "outputs": [],
   "source": [
    "field = dev_client.custom_fields.create(custom_field=stage_gate_field)"
   ]
  },
  {
   "cell_type": "code",
   "execution_count": null,
   "id": "61153d94-1274-47ce-8325-8c57c7871fbb",
   "metadata": {},
   "outputs": [],
   "source": []
  }
 ],
 "metadata": {
  "kernelspec": {
   "display_name": "Python 3 (ipykernel)",
   "language": "python",
   "name": "python3"
  },
  "language_info": {
   "codemirror_mode": {
    "name": "ipython",
    "version": 3
   },
   "file_extension": ".py",
   "mimetype": "text/x-python",
   "name": "python",
   "nbconvert_exporter": "python",
   "pygments_lexer": "ipython3",
   "version": "3.12.4"
  }
 },
 "nbformat": 4,
 "nbformat_minor": 5
}
